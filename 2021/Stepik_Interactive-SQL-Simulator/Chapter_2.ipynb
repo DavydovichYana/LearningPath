{
 "cells": [
  {
   "cell_type": "markdown",
   "metadata": {},
   "source": [
    "**ИНТЕРАКТИВНЫЙ ТРЕНАЖЕР ПО SQL. ОСНОВЫ РЕЛЯЦИОННОЙ МОДЕЛИ И SQL.**\n",
    "\n",
    "[Курс](https://stepik.org/course/63054/syllabus) на Stepik.\n",
    "\n",
    "Автор: **Озерова Галина Павловна**  \n",
    "<img src=\"imgs/ozerova.jpg\" title=\"Озерова Галина Павловна\" width=\"200\" height=\"200\"/>\n",
    "\n",
    "Конспектировал: **Илья Филимонов** (GiHub: [@IsFilimonov](https://github.com/IsFilimonov))  \n",
    "\n",
    "<img src=\"imgs/IsFilimonov.png\" title=\"Илья Филимонов\" width=\"200\" height=\"200\"/>\n",
    "\n",
    "---"
   ]
  },
  {
   "cell_type": "markdown",
   "metadata": {
    "toc": true
   },
   "source": [
    "<h1>Table of Contents<span class=\"tocSkip\"></span></h1>\n",
    "<div class=\"toc\"><ul class=\"toc-item\"><li><span><a href=\"#Введение\" data-toc-modified-id=\"Введение-1\"><strong>Введение</strong></a></span><ul class=\"toc-item\"><li><span><a href=\"#От-конспектирующего\" data-toc-modified-id=\"От-конспектирующего-1.1\">От конспектирующего</a></span></li><li><span><a href=\"#Организуем-работу-с-БД\" data-toc-modified-id=\"Организуем-работу-с-БД-1.2\">Организуем работу с БД</a></span></li><li><span><a href=\"#Памятка-о-типичных-ошибках-и-способах-их-исправления\" data-toc-modified-id=\"Памятка-о-типичных-ошибках-и-способах-их-исправления-1.3\">Памятка о типичных ошибках и способах их исправления</a></span></li></ul></li><li><span><a href=\"#Запросы-SQL-к-связанным-таблицам\" data-toc-modified-id=\"Запросы-SQL-к-связанным-таблицам-2\"><strong>Запросы SQL к связанным таблицам</strong></a></span><ul class=\"toc-item\"><li><span><a href=\"#2.1-Связи-между-таблицами\" data-toc-modified-id=\"2.1-Связи-между-таблицами-2.1\"><strong>2.1 Связи между таблицами</strong></a></span><ul class=\"toc-item\"><li><span><a href=\"#Задание-1\" data-toc-modified-id=\"Задание-1-2.1.1\">Задание 1</a></span></li><li><span><a href=\"#Задание-2\" data-toc-modified-id=\"Задание-2-2.1.2\">Задание 2</a></span></li><li><span><a href=\"#Создание-таблицы-с-внешними-ключами\" data-toc-modified-id=\"Создание-таблицы-с-внешними-ключами-2.1.3\">Создание таблицы с внешними ключами</a></span><ul class=\"toc-item\"><li><span><a href=\"#Пример\" data-toc-modified-id=\"Пример-2.1.3.1\">Пример</a></span></li></ul></li><li><span><a href=\"#Задание-3\" data-toc-modified-id=\"Задание-3-2.1.4\">Задание 3</a></span></li><li><span><a href=\"#Действия-при-удалении-записи-главной-таблицы\" data-toc-modified-id=\"Действия-при-удалении-записи-главной-таблицы-2.1.5\">Действия при удалении записи главной таблицы</a></span><ul class=\"toc-item\"><li><span><a href=\"#Пример\" data-toc-modified-id=\"Пример-2.1.5.1\">Пример</a></span></li></ul></li><li><span><a href=\"#Задание-4\" data-toc-modified-id=\"Задание-4-2.1.6\">Задание 4</a></span></li><li><span><a href=\"#Задание-5\" data-toc-modified-id=\"Задание-5-2.1.7\">Задание 5</a></span></li></ul></li><li><span><a href=\"#2.2-Запросы-на-выборку,-соединение-таблиц\" data-toc-modified-id=\"2.2-Запросы-на-выборку,-соединение-таблиц-2.2\"><strong>2.2 Запросы на выборку, соединение таблиц</strong></a></span><ul class=\"toc-item\"><li><span><a href=\"#Соединение-INNER-JOIN\" data-toc-modified-id=\"Соединение-INNER-JOIN-2.2.1\">Соединение INNER JOIN</a></span><ul class=\"toc-item\"><li><span><a href=\"#Задача\" data-toc-modified-id=\"Задача-2.2.1.1\">Задача</a></span></li></ul></li><li><span><a href=\"#Внешнее-соединение-LEFT-и-RIGHT-OUTER-JOIN\" data-toc-modified-id=\"Внешнее-соединение-LEFT-и-RIGHT-OUTER-JOIN-2.2.2\">Внешнее соединение LEFT и RIGHT OUTER JOIN</a></span><ul class=\"toc-item\"><li><span><a href=\"#Задача\" data-toc-modified-id=\"Задача-2.2.2.1\">Задача</a></span></li></ul></li><li><span><a href=\"#Перекрестное-соединение-CROSS-JOIN\" data-toc-modified-id=\"Перекрестное-соединение-CROSS-JOIN-2.2.3\">Перекрестное соединение CROSS JOIN</a></span><ul class=\"toc-item\"><li><span><a href=\"#Задание\" data-toc-modified-id=\"Задание-2.2.3.1\">Задание</a></span></li></ul></li><li><span><a href=\"#Запросы-на-выборку-из-нескольких-таблиц\" data-toc-modified-id=\"Запросы-на-выборку-из-нескольких-таблиц-2.2.4\">Запросы на выборку из нескольких таблиц</a></span><ul class=\"toc-item\"><li><span><a href=\"#Задача\" data-toc-modified-id=\"Задача-2.2.4.1\">Задача</a></span></li></ul></li><li><span><a href=\"#Запросы-для-нескольких-таблиц-с-группировкой\" data-toc-modified-id=\"Запросы-для-нескольких-таблиц-с-группировкой-2.2.5\">Запросы для нескольких таблиц с группировкой</a></span><ul class=\"toc-item\"><li><span><a href=\"#Задача\" data-toc-modified-id=\"Задача-2.2.5.1\">Задача</a></span></li></ul></li><li><span><a href=\"#Запросы-для-нескольких-таблиц-со-вложенными-запросами\" data-toc-modified-id=\"Запросы-для-нескольких-таблиц-со-вложенными-запросами-2.2.6\">Запросы для нескольких таблиц со вложенными запросами</a></span><ul class=\"toc-item\"><li><span><a href=\"#Задача\" data-toc-modified-id=\"Задача-2.2.6.1\">Задача</a></span></li></ul></li><li><span><a href=\"#Вложенные-запросы-в-операторах-соединения\" data-toc-modified-id=\"Вложенные-запросы-в-операторах-соединения-2.2.7\">Вложенные запросы в операторах соединения</a></span><ul class=\"toc-item\"><li><span><a href=\"#Задача\" data-toc-modified-id=\"Задача-2.2.7.1\">Задача</a></span></li></ul></li><li><span><a href=\"#Операция-соединение,-использование-USING()\" data-toc-modified-id=\"Операция-соединение,-использование-USING()-2.2.8\">Операция соединение, использование USING()</a></span><ul class=\"toc-item\"><li><span><a href=\"#Задание\" data-toc-modified-id=\"Задание-2.2.8.1\">Задание</a></span></li></ul></li></ul></li><li><span><a href=\"#2.3-Запросы-корректировки,-соединение-таблиц\" data-toc-modified-id=\"2.3-Запросы-корректировки,-соединение-таблиц-2.3\"><strong>2.3 Запросы корректировки, соединение таблиц</strong></a></span><ul class=\"toc-item\"><li><span><a href=\"#Запросы-на-обновление,-связанные-таблицы\" data-toc-modified-id=\"Запросы-на-обновление,-связанные-таблицы-2.3.1\">Запросы на обновление, связанные таблицы</a></span><ul class=\"toc-item\"><li><span><a href=\"#Задача\" data-toc-modified-id=\"Задача-2.3.1.1\">Задача</a></span></li></ul></li></ul></li></ul></li></ul></div>"
   ]
  },
  {
   "cell_type": "markdown",
   "metadata": {},
   "source": [
    "# **Введение**"
   ]
  },
  {
   "cell_type": "markdown",
   "metadata": {},
   "source": [
    "## От конспектирующего\n",
    "(Не реклама): сам курс использует диалект MySQL, но мне комфортнее использовать PostgreSQL 12.6 ([download](https://www.postgresql.org/download/)).  \n",
    "[Рекомендации](https://wiki.postgresql.org/wiki/Don%27t_Do_This) того, чего не нужно делать в Postgres.\n",
    "\n",
    "Для работы с базой лично я использую IDE [DataGrip](https://www.jetbrains.com/ru-ru/datagrip/) (платная) или [Dbeaver](https://dbeaver.io/) (бесплатная) - под MacOS. \n",
    "\n",
    "Это всё сторонние решения, но можно воспользоваться более [простым способом](https://towardsdatascience.com/heres-how-to-run-sql-in-jupyter-notebooks-f26eb90f3259) - использовать Jupyter Notebook в роли SQL IDE. Для этого нам потребуется установить несколько библиотек. Для работы с Jupyter Notebook я использую платформу [Anaconda](https://www.anaconda.com/), поэтому все нужные библиотеки для работы я буду устанавливать именно в эту среду. Я не буду останавливаться на деталях в вопросе \"как?\", чтобы в деталях не закопаться. В интернете полно подсказок. Главное, должны быть установлены:\n",
    "- `ipython-sql` - [пакет](https://anaconda.org/conda-forge/ipython-sql) для работы с SQL запросами;\n",
    "- `psycopg2` или `psycopg2-binary` - драйвер базы данных Postgres. Там есть нюансы с установкой;\n",
    "- `sqlalchemy` - ORM для работы с SQL БД.\n",
    "\n",
    "\n",
    "Более подробно читайте [статью](https://towardsdatascience.com/heres-how-to-run-sql-in-jupyter-notebooks-f26eb90f3259), которая была выше."
   ]
  },
  {
   "cell_type": "markdown",
   "metadata": {},
   "source": [
    "Для установки соединения с БД мы единожды используем SQL Alchemy."
   ]
  },
  {
   "cell_type": "code",
   "execution_count": 1,
   "metadata": {},
   "outputs": [],
   "source": [
    "import sqlalchemy"
   ]
  },
  {
   "cell_type": "markdown",
   "metadata": {},
   "source": [
    "Далее создаем соединение."
   ]
  },
  {
   "cell_type": "code",
   "execution_count": 2,
   "metadata": {},
   "outputs": [
    {
     "data": {
      "text/plain": [
       "Engine(postgresql://localhost:5432/postgres)"
      ]
     },
     "execution_count": 2,
     "metadata": {},
     "output_type": "execute_result"
    }
   ],
   "source": [
    "sqlalchemy.create_engine(\"postgresql://localhost:5432/postgres\")"
   ]
  },
  {
   "cell_type": "markdown",
   "metadata": {},
   "source": [
    "Загружаем extension."
   ]
  },
  {
   "cell_type": "code",
   "execution_count": 3,
   "metadata": {},
   "outputs": [],
   "source": [
    "%load_ext sql"
   ]
  },
  {
   "cell_type": "markdown",
   "metadata": {},
   "source": [
    "Проверяем соединение."
   ]
  },
  {
   "cell_type": "code",
   "execution_count": 4,
   "metadata": {},
   "outputs": [
    {
     "data": {
      "text/plain": [
       "'Connected: @postgres'"
      ]
     },
     "execution_count": 4,
     "metadata": {},
     "output_type": "execute_result"
    }
   ],
   "source": [
    "%sql postgresql://localhost:5432/postgres"
   ]
  },
  {
   "cell_type": "markdown",
   "metadata": {},
   "source": [
    "Чтобы узнать какая версия установлена у вас, введите в консоле запроса БД (не в командной строке, а в ячейке):"
   ]
  },
  {
   "cell_type": "code",
   "execution_count": 5,
   "metadata": {},
   "outputs": [
    {
     "name": "stdout",
     "output_type": "stream",
     "text": [
      " * postgresql://localhost:5432/postgres\n",
      "1 rows affected.\n"
     ]
    },
    {
     "data": {
      "text/html": [
       "<table>\n",
       "    <thead>\n",
       "        <tr>\n",
       "            <th>version</th>\n",
       "        </tr>\n",
       "    </thead>\n",
       "    <tbody>\n",
       "        <tr>\n",
       "            <td>PostgreSQL 12.6 on x86_64-apple-darwin16.7.0, compiled by Apple LLVM version 8.1.0 (clang-802.0.42), 64-bit</td>\n",
       "        </tr>\n",
       "    </tbody>\n",
       "</table>"
      ],
      "text/plain": [
       "[('PostgreSQL 12.6 on x86_64-apple-darwin16.7.0, compiled by Apple LLVM version 8.1.0 (clang-802.0.42), 64-bit',)]"
      ]
     },
     "execution_count": 5,
     "metadata": {},
     "output_type": "execute_result"
    }
   ],
   "source": [
    "%%sql\n",
    "\n",
    "SELECT version();"
   ]
  },
  {
   "cell_type": "markdown",
   "metadata": {},
   "source": [
    "Вероятнее всего у вас уже создана БД `postgres`. Будем работать с ней. В БД нам нужно создать схему `stepik`, так сказать группировку (семантическую) для нужных нам таблиц. \n",
    "\n",
    "`DROP SCHEMA ... CASCADE` удаляет схему со всеми данными внутри.  \n",
    "`IF NOT EXISTS` означает не делать ничего (только выдать замечание), если схема с таким именем уже существует."
   ]
  },
  {
   "cell_type": "code",
   "execution_count": 6,
   "metadata": {},
   "outputs": [
    {
     "name": "stdout",
     "output_type": "stream",
     "text": [
      " * postgresql://localhost:5432/postgres\n",
      "Done.\n",
      "Done.\n"
     ]
    },
    {
     "data": {
      "text/plain": [
       "[]"
      ]
     },
     "execution_count": 6,
     "metadata": {},
     "output_type": "execute_result"
    }
   ],
   "source": [
    "%%sql\n",
    "DROP SCHEMA IF EXISTS stepik CASCADE;\n",
    "\n",
    "CREATE SCHEMA IF NOT EXISTS stepik;"
   ]
  },
  {
   "cell_type": "markdown",
   "metadata": {},
   "source": [
    "## Организуем работу с БД\n",
    "\n",
    "Для начала, чтобы узнать все таблицы, которые созданы в базе:\n",
    "\n",
    "```sql\n",
    "--MySQL\n",
    "SELECT table_name, engine\n",
    "FROM information_schema.tables;\n",
    "\n",
    "--Postgres\n",
    "SELECT * FROM information_schema.tables;\n",
    "```\n",
    "\n",
    "Чтобы узнать из каких полей состоит таблица:\n",
    "\n",
    "```sql\n",
    "--MySQL\n",
    "DESCRIBE table;\n",
    "\n",
    "--Postgres\n",
    "SELECT column_name, data_type, character_maximum_length, column_default, is_nullable -- *\n",
    "FROM information_schema.columns\n",
    "WHERE table_name = 'author';\n",
    "```"
   ]
  },
  {
   "cell_type": "markdown",
   "metadata": {},
   "source": [
    "## Памятка о типичных ошибках и способах их исправления\n",
    "\n",
    "1. Приведите синтаксис запроса к общепринятому:\n",
    "    - если у вас есть время, стоит изучить [руководство по стилю SQL](https://www.sqlstyle.guide/ru/);\n",
    "    - можете отформатировать ваш запрос с помощью сторонних [сервисов](https://codebeautify.org/sqlformatter).\n",
    "2. Проверьте, что **ключевые слова**, **названия столбцов** и **значения в ячейках**, которые необходимо найти, написаны правильно. Особенно обратите внимание, чтобы в русских названиях столбцов не было английских букв.\n",
    "3. Проверьте, что:\n",
    "    - количество открывающихся скобок равно количеству закрывающихся;\n",
    "    - запятые разделяют перечисление столбцов, но не ключевые слова;\n",
    "    - запросы разделяются точкой с запятой.\n",
    "4. Последовательность написания команд SQL:\n",
    "```SQL\n",
    "SELECT 'столбцы или * для выбора всех столбцов; обязательно'\n",
    "FROM 'таблица; обязательно'\n",
    "WHERE 'условие/фильтрация, например, city = 'Moscow'; необязательно'\n",
    "GROUP BY 'столбец, по которому хотим сгруппировать данные; необязательно'\n",
    "HAVING 'условие/фильтрация на уровне сгруппированных данных; необязательно'\n",
    "ORDER BY 'столбец, по которому хотим отсортировать вывод; необязательно'\n",
    "```\n",
    "5. Если запрос включает подзапросы, выполните сначала подзапросы и удостоверьтесь, что получаете ожидаемый результат.\n",
    "6. **Важно!** На платформе Stepik используется MySQL, версия 8.0.21.\n",
    "7. Последовательность выполнения команд SQL:\n",
    "<center><img src=\"imgs/sql-order.jpeg\" title=\"SQL order\" width=\"30%\" height=\"30%\"/></center>\n",
    "8. Или другой вариант от [@Ken Flerlage](https://www.flerlagetwins.com/) со сравнением ([источник](https://www.flerlagetwins.com/2018/10/sql-part4.html)):\n",
    "<center><img src=\"imgs/sql-order-operations.png\" title=\"SQL order operations\" width=\"50%\" height=\"50%\"/></center>\n",
    "9. Специфические отличия MySQL от PostgreSQL:\n",
    "\n",
    "[MySQL](https://www.mysqltutorial.org/mysql-having.aspx/): `FROM` => `WHERE` = `SELECT` = `GROUP BY` = `HAVING` = `ORDER BY` = `LIMIT`.   \n",
    "\n",
    "[PostgreSQL](https://www.postgresqltutorial.com/postgresql-having/): `FROM` => `WHERE` = `GROUP BY` = `HAVING` = `SELECT` = `DISTINCT` = `ORDER BY` = `LIMIT`. "
   ]
  },
  {
   "cell_type": "markdown",
   "metadata": {},
   "source": [
    "# **Запросы SQL к связанным таблицам**"
   ]
  },
  {
   "cell_type": "markdown",
   "metadata": {},
   "source": [
    "## **2.1 Связи между таблицами**"
   ]
  },
  {
   "cell_type": "markdown",
   "metadata": {},
   "source": [
    "Связь **«один ко многим»** имеет место, когда одной записи главной таблицы соответствует несколько записей связанной таблицы, а каждой записи связанной таблицы соответствует только одна запись главной таблицы. Обозначается это так:  \n",
    "Автор ---> Книга\n",
    "\n",
    "Связь **«многие ко многим»** имеет место когда каждой записи одной таблицы соответствует несколько записей во второй, и наоборот, каждой записи второй таблицы соответствует несколько записей в первой. Обозначается это так:  \n",
    "Автор <---> Книга"
   ]
  },
  {
   "cell_type": "markdown",
   "metadata": {},
   "source": [
    "### Задание 1\n",
    "\n",
    "Создать таблицу `author` следующей структуры:\n",
    "```sql\n",
    "CREATE TABLE author(\n",
    "  author_id INT PRIMARY KEY AUTO_INCREMENT, \n",
    "  name_author varchar(50)\n",
    ");\n",
    "```"
   ]
  },
  {
   "cell_type": "code",
   "execution_count": 7,
   "metadata": {},
   "outputs": [
    {
     "name": "stdout",
     "output_type": "stream",
     "text": [
      " * postgresql://localhost:5432/postgres\n",
      "Done.\n",
      "Done.\n"
     ]
    },
    {
     "data": {
      "text/plain": [
       "[]"
      ]
     },
     "execution_count": 7,
     "metadata": {},
     "output_type": "execute_result"
    }
   ],
   "source": [
    "%%sql\n",
    "DROP TABLE IF EXISTS stepik.author CASCADE;\n",
    "\n",
    "CREATE TABLE IF NOT EXISTS stepik.author (\n",
    "  author_id int primary key generated always as identity, \n",
    "  name_author text\n",
    ");"
   ]
  },
  {
   "cell_type": "markdown",
   "metadata": {},
   "source": [
    "### Задание 2\n",
    "\n",
    "Заполнить таблицу `author`. В нее включить следующих авторов:\n",
    "\n",
    "```sql\n",
    "INSERT INTO author(name_author)\n",
    "VALUES ('Булгаков М.А.'),\n",
    "       ('Достоевский Ф.М.'),\n",
    "       ('Есенин С.А.'),\n",
    "       ('Пастернак Б.Л.');\n",
    "```"
   ]
  },
  {
   "cell_type": "code",
   "execution_count": 8,
   "metadata": {},
   "outputs": [
    {
     "name": "stdout",
     "output_type": "stream",
     "text": [
      " * postgresql://localhost:5432/postgres\n",
      "4 rows affected.\n"
     ]
    },
    {
     "data": {
      "text/plain": [
       "[]"
      ]
     },
     "execution_count": 8,
     "metadata": {},
     "output_type": "execute_result"
    }
   ],
   "source": [
    "%%sql\n",
    "INSERT INTO stepik.author(name_author)\n",
    "VALUES ('Булгаков М.А.'),\n",
    "       ('Достоевский Ф.М.'),\n",
    "       ('Есенин С.А.'),\n",
    "       ('Пастернак Б.Л.');"
   ]
  },
  {
   "cell_type": "markdown",
   "metadata": {},
   "source": [
    "### Создание таблицы с внешними ключами\n",
    "\n",
    "При создании зависимой таблицы (таблицы, которая содержит внешние ключи) необходимо учитывать, что :\n",
    "- каждый внешний ключ должен иметь такой же тип данных, как связанное поле главной таблицы (в наших примерах это `INT`);\n",
    "- необходимо указать главную для нее таблицу и столбец, по которому осуществляется связь:\n",
    "\n",
    "```sql\n",
    "FOREIGN KEY (связанное_поле_зависимой_таблицы)  \n",
    "REFERENCES главная_таблица (связанное_поле_главной_таблицы)\n",
    "```\n",
    "\n",
    "По умолчанию любой столбец, кроме ключевого, может содержать значение `NULL`. При создании таблицы это можно переопределить,  используя  ограничение `NOT NULL` для этого столбца:\n",
    "```sql\n",
    "CREATE TABLE таблица (\n",
    "    столбец_1 INT NOT NULL, \n",
    "    столбец_2 VARCHAR(10) \n",
    ");\n",
    "```"
   ]
  },
  {
   "cell_type": "markdown",
   "metadata": {},
   "source": [
    "#### Пример\n",
    "\n",
    "Создать таблицу `book` следующей структуры:\n",
    "\n",
    "```sql\n",
    "CREATE TABLE book (\n",
    "    book_id INT PRIMARY KEY AUTO_INCREMENT, \n",
    "    title VARCHAR(50), \n",
    "    author_id INT NOT NULL, \n",
    "    price DECIMAL(8,2), \n",
    "    amount INT, \n",
    "    FOREIGN KEY (author_id)  REFERENCES author (author_id) --указываем внешний ключ\n",
    ");\n",
    "```"
   ]
  },
  {
   "cell_type": "markdown",
   "metadata": {},
   "source": [
    "### Задание 3\n",
    "\n",
    "Запрос на создание таблицы `genre`:\n",
    "\n",
    "```sql\n",
    "CREATE TABLE genre (\n",
    "    genre_id INT PRIMARY KEY AUTO_INCREMENT, \n",
    "    name_genre VARCHAR(50)\n",
    ");\n",
    "```\n",
    "\n",
    "Запрос на создание таблицы `book`:\n",
    "\n",
    "```sql\n",
    "CREATE TABLE book (\n",
    "    book_id INT PRIMARY KEY AUTO_INCREMENT, \n",
    "    title VARCHAR(50),\n",
    "    author_id INT NOT NULL,\n",
    "    genre_id INT,\n",
    "    price DECIMAL(8,2),\n",
    "    amount INT,\n",
    "    FOREIGN KEY (author_id) REFERENCES author (author_id),\n",
    "    FOREIGN KEY (genre_id)  REFERENCES genre (genre_id) \n",
    ");\n",
    "```"
   ]
  },
  {
   "cell_type": "code",
   "execution_count": 9,
   "metadata": {},
   "outputs": [
    {
     "name": "stdout",
     "output_type": "stream",
     "text": [
      " * postgresql://localhost:5432/postgres\n",
      "Done.\n",
      "Done.\n",
      "2 rows affected.\n",
      "Done.\n",
      "Done.\n"
     ]
    },
    {
     "data": {
      "text/plain": [
       "[]"
      ]
     },
     "execution_count": 9,
     "metadata": {},
     "output_type": "execute_result"
    }
   ],
   "source": [
    "%%sql\n",
    "DROP TABLE IF EXISTS stepik.genre CASCADE;\n",
    "\n",
    "CREATE TABLE IF NOT EXISTS stepik.genre\n",
    "(\n",
    "    genre_id   INT primary key generated always AS identity,\n",
    "    name_genre TEXT\n",
    ");\n",
    "\n",
    "INSERT INTO stepik.genre(name_genre)\n",
    "VALUES ('Роман'),\n",
    "       ('Поэзия');\n",
    "\n",
    "DROP TABLE IF EXISTS stepik.book CASCADE;\n",
    "\n",
    "CREATE TABLE IF NOT EXISTS stepik.book\n",
    "(\n",
    "    book_id   INT primary key generated always AS identity,\n",
    "    title     TEXT,\n",
    "    author_id INT NOT NULL,\n",
    "    genre_id  INT,\n",
    "    price     DECIMAL(8, 2),\n",
    "    amount    INT,\n",
    "    FOREIGN KEY (author_id) REFERENCES stepik.author (author_id),\n",
    "    FOREIGN KEY (genre_id) REFERENCES stepik.genre (genre_id)\n",
    ");"
   ]
  },
  {
   "cell_type": "markdown",
   "metadata": {},
   "source": [
    "### Действия при удалении записи главной таблицы\n",
    "\n",
    "С помощью выражения `ON DELETE`  можно установить действия, которые выполняются для записей подчиненной таблицы при удалении связанной строки из главной таблицы. При удалении можно установить следующие опции:\n",
    "- `CASCADE`: автоматически удаляет строки из зависимой таблицы при удалении  связанных строк в главной таблице.\n",
    "- `SET NULL`: при удалении  связанной строки из главной таблицы устанавливает для столбца внешнего ключа значение `NULL`. (В этом случае столбец внешнего ключа должен поддерживать установку `NULL`).\n",
    "- `SET DEFAULT` похоже на `SET NULL` за тем исключением, что значение  внешнего ключа устанавливается не в `NULL`, а в значение по умолчанию для данного столбца.\n",
    "- `RESTRICT`: отклоняет удаление строк в главной таблице при наличии связанных строк в зависимой таблице.\n",
    "\n",
    "**Важно**! Если для столбца установлена опция `SET NULL`, то при его описании нельзя задать ограничение на пустое значение."
   ]
  },
  {
   "cell_type": "markdown",
   "metadata": {},
   "source": [
    "#### Пример\n",
    "\n",
    "Будем считать, что при удалении автора из таблицы `author`, необходимо удалить все записи о книгах из таблицы `book`, написанные этим автором. Данное действие необходимо прописать при создании таблицы.\n",
    "\n",
    "```sql\n",
    "CREATE TABLE book (\n",
    "    book_id INT PRIMARY KEY AUTO_INCREMENT, \n",
    "    title VARCHAR(50), \n",
    "    author_id INT NOT NULL, \n",
    "    price DECIMAL(8,2), \n",
    "    amount INT, \n",
    "    FOREIGN KEY (author_id)  REFERENCES author (author_id) ON DELETE CASCADE\n",
    ");\n",
    "```"
   ]
  },
  {
   "cell_type": "markdown",
   "metadata": {},
   "source": [
    "### Задание 4\n",
    "\n",
    "Создать таблицу `book` той же структуры, что и на предыдущем шаге. Будем считать, что при удалении автора из таблицы `author`, должны удаляться все записи о книгах из таблицы `book`, написанные этим автором. А при удалении жанра из таблицы `genre` для соответствующей записи `book` установить значение `Null` в столбце `genre_id`. \n",
    "\n",
    "```sql\n",
    "CREATE TABLE book (\n",
    "    book_id INT PRIMARY KEY AUTO_INCREMENT, \n",
    "    title VARCHAR(50), \n",
    "    author_id INT NOT NULL,\n",
    "    genre_id INT,\n",
    "    price DECIMAL(8,2), \n",
    "    amount INT, \n",
    "    FOREIGN KEY (author_id) REFERENCES author (author_id) ON DELETE CASCADE,\n",
    "    FOREIGN KEY (genre_id)  REFERENCES genre (genre_id)  ON DELETE SET NULL\n",
    ");\n",
    "```"
   ]
  },
  {
   "cell_type": "code",
   "execution_count": 10,
   "metadata": {},
   "outputs": [
    {
     "name": "stdout",
     "output_type": "stream",
     "text": [
      " * postgresql://localhost:5432/postgres\n",
      "Done.\n",
      "Done.\n"
     ]
    },
    {
     "data": {
      "text/plain": [
       "[]"
      ]
     },
     "execution_count": 10,
     "metadata": {},
     "output_type": "execute_result"
    }
   ],
   "source": [
    "%%sql\n",
    "\n",
    "DROP TABLE IF EXISTS stepik.book CASCADE;\n",
    "\n",
    "CREATE TABLE IF NOT EXISTS stepik.book\n",
    "(\n",
    "    book_id   INT primary key generated always AS identity,\n",
    "    title     TEXT,\n",
    "    author_id INT NOT NULL,\n",
    "    genre_id  INT,\n",
    "    price     DECIMAL(8, 2),\n",
    "    amount    INT,\n",
    "    FOREIGN KEY (author_id) REFERENCES stepik.author (author_id) ON DELETE CASCADE,\n",
    "    FOREIGN KEY (genre_id) REFERENCES stepik.genre (genre_id) ON DELETE SET NULL\n",
    ");\n",
    "\n"
   ]
  },
  {
   "cell_type": "markdown",
   "metadata": {},
   "source": [
    "### Задание 5\n",
    "\n",
    "Заполняем таблицу `book`:\n",
    "\n",
    "```sql\n",
    "INSERT INTO book(title, author_id, genre_id, price, amount)\n",
    "VALUES ('Мастер и Маргарита', 1, 1, 670.99, 3),\n",
    "       ('Белая гвардия', 1, 1, 540.50, 5),\n",
    "       ('Идиот', 2, 1, 460.00, 10),\n",
    "       ('Братья Карамазовы', 2, 1, 799.01, 3),\n",
    "       ('Игрок', 2, 1, 480.50, 10),\n",
    "       ('Стихотворения и поэмы', 3, 2, 650.00, 15),\n",
    "       ('Черный человек', 3, 2, 570.20, 6),\n",
    "       ('Лирика', 4, 2, 518.99, 2);\n",
    "```"
   ]
  },
  {
   "cell_type": "code",
   "execution_count": 11,
   "metadata": {},
   "outputs": [
    {
     "name": "stdout",
     "output_type": "stream",
     "text": [
      " * postgresql://localhost:5432/postgres\n",
      "8 rows affected.\n"
     ]
    },
    {
     "data": {
      "text/plain": [
       "[]"
      ]
     },
     "execution_count": 11,
     "metadata": {},
     "output_type": "execute_result"
    }
   ],
   "source": [
    "%%sql\n",
    "INSERT INTO stepik.book(title, author_id, genre_id, price, amount)\n",
    "VALUES ('Мастер и Маргарита', 1, 1, 670.99, 3),\n",
    "       ('Белая гвардия', 1, 1, 540.50, 5),\n",
    "       ('Идиот', 2, 1, 460.00, 10),\n",
    "       ('Братья Карамазовы', 2, 1, 799.01, 3),\n",
    "       ('Игрок', 2, 1, 480.50, 10),\n",
    "       ('Стихотворения и поэмы', 3, 2, 650.00, 15),\n",
    "       ('Черный человек', 3, 2, 570.20, 6),\n",
    "       ('Лирика', 4, 2, 518.99, 2);"
   ]
  },
  {
   "cell_type": "markdown",
   "metadata": {},
   "source": [
    "## **2.2 Запросы на выборку, соединение таблиц**"
   ]
  },
  {
   "cell_type": "markdown",
   "metadata": {},
   "source": [
    "Для начала синхронизируем данные с курсом."
   ]
  },
  {
   "cell_type": "code",
   "execution_count": 12,
   "metadata": {},
   "outputs": [
    {
     "name": "stdout",
     "output_type": "stream",
     "text": [
      " * postgresql://localhost:5432/postgres\n",
      "Done.\n",
      "Done.\n",
      "5 rows affected.\n",
      "Done.\n",
      "Done.\n",
      "3 rows affected.\n",
      "Done.\n",
      "Done.\n",
      "8 rows affected.\n"
     ]
    },
    {
     "data": {
      "text/plain": [
       "[]"
      ]
     },
     "execution_count": 12,
     "metadata": {},
     "output_type": "execute_result"
    }
   ],
   "source": [
    "%%sql\n",
    "DROP TABLE IF EXISTS stepik.author CASCADE;\n",
    "\n",
    "CREATE TABLE IF NOT EXISTS stepik.author\n",
    "(\n",
    "    author_id   int primary key generated always as identity,\n",
    "    name_author text\n",
    ");\n",
    "\n",
    "INSERT INTO stepik.author(name_author)\n",
    "VALUES ('Булгаков М.А.'),\n",
    "       ('Достоевский Ф.М.'),\n",
    "       ('Есенин С.А.'),\n",
    "       ('Пастернак Б.Л.'),\n",
    "       ('Лермонтов М.Ю.'); --added value\n",
    "\n",
    "DROP TABLE IF EXISTS stepik.genre CASCADE;\n",
    "\n",
    "CREATE TABLE IF NOT EXISTS stepik.genre\n",
    "(\n",
    "    genre_id   INT primary key generated always AS identity,\n",
    "    name_genre TEXT\n",
    ");\n",
    "\n",
    "INSERT INTO stepik.genre(name_genre)\n",
    "VALUES ('Роман'),\n",
    "       ('Поэзия'),\n",
    "       ('Приключения'); --added value\n",
    "\n",
    "DROP TABLE IF EXISTS stepik.book CASCADE;\n",
    "\n",
    "CREATE TABLE IF NOT EXISTS stepik.book\n",
    "(\n",
    "    book_id   INT primary key generated always AS identity,\n",
    "    title     TEXT,\n",
    "    author_id INT NOT NULL,\n",
    "    genre_id  INT,\n",
    "    price     DECIMAL(8, 2),\n",
    "    amount    INT,\n",
    "    FOREIGN KEY (author_id) REFERENCES stepik.author (author_id) ON DELETE CASCADE,\n",
    "    FOREIGN KEY (genre_id) REFERENCES stepik.genre (genre_id) ON DELETE SET NULL\n",
    ");\n",
    "\n",
    "INSERT INTO stepik.book(title, author_id, genre_id, price, amount)\n",
    "VALUES ('Мастер и Маргарита', 1, 1, 670.99, 3),\n",
    "       ('Белая гвардия', 1, 1, 540.50, 5),\n",
    "       ('Идиот', 2, 1, 460.00, 10),\n",
    "       ('Братья Карамазовы', 2, 1, 799.01, 3),\n",
    "       ('Игрок', 2, 1, 480.50, 10),\n",
    "       ('Стихотворения и поэмы', 3, 2, 650.00, 15),\n",
    "       ('Черный человек', 3, 2, 570.20, 6),\n",
    "       ('Лирика', 4, 2, 518.99, 2);"
   ]
  },
  {
   "cell_type": "markdown",
   "metadata": {},
   "source": [
    "### Соединение INNER JOIN\n",
    "\n",
    "Формирование:\n",
    "- Каждая строка одной таблицы сопоставляется с каждой строкой второй таблицы;\n",
    "- Для полученной «соединённой» строки проверяется условие соединения;\n",
    "- Усли условие истинно, в таблицу результата добавляется соответствующая «соединённая» строка.\n",
    "\n",
    "```mysql\n",
    "SELECT\n",
    " ...\n",
    "FROM\n",
    "    таблица_1 INNER JOIN  таблица_2\n",
    "    ON условие\n",
    "...\n",
    "```\n",
    "\n",
    "Нет никакой разницы, сплошной [синтаксический сахар](https://en.wikipedia.org/wiki/Syntactic_sugar), при использовании `JOIN` и `INNER JOIN`. Обычно второй вариант используют, чтобы интуитивно отделять прочих JOIN-ов.\n",
    "\n",
    "**Важно**: хотелось бы отметить, что часто JOIN-ы изображают с помощью диаграмм Венна. Это не совсем верно, так как данные множества - это всего лишь частный случай (ограничений по ключам) декартового произведения строк."
   ]
  },
  {
   "cell_type": "markdown",
   "metadata": {},
   "source": [
    "#### Задача\n",
    "\n",
    "Вывести название, жанр и цену тех книг, количество которых больше 8, в отсортированном по убыванию цены виде.\n",
    "\n",
    "```mysql\n",
    "SELECT b.title, g.name_genre, b.price\n",
    "FROM book b\n",
    "\t     INNER JOIN genre g\n",
    "\t     ON b.genre_id = g.genre_id\n",
    "WHERE b.amount > 8\n",
    "ORDER BY b.price DESC;\n",
    "```"
   ]
  },
  {
   "cell_type": "code",
   "execution_count": 13,
   "metadata": {},
   "outputs": [
    {
     "name": "stdout",
     "output_type": "stream",
     "text": [
      " * postgresql://localhost:5432/postgres\n",
      "3 rows affected.\n"
     ]
    },
    {
     "data": {
      "text/html": [
       "<table>\n",
       "    <thead>\n",
       "        <tr>\n",
       "            <th>title</th>\n",
       "            <th>name_genre</th>\n",
       "            <th>price</th>\n",
       "        </tr>\n",
       "    </thead>\n",
       "    <tbody>\n",
       "        <tr>\n",
       "            <td>Стихотворения и поэмы</td>\n",
       "            <td>Поэзия</td>\n",
       "            <td>650.00</td>\n",
       "        </tr>\n",
       "        <tr>\n",
       "            <td>Игрок</td>\n",
       "            <td>Роман</td>\n",
       "            <td>480.50</td>\n",
       "        </tr>\n",
       "        <tr>\n",
       "            <td>Идиот</td>\n",
       "            <td>Роман</td>\n",
       "            <td>460.00</td>\n",
       "        </tr>\n",
       "    </tbody>\n",
       "</table>"
      ],
      "text/plain": [
       "[('Стихотворения и поэмы', 'Поэзия', Decimal('650.00')),\n",
       " ('Игрок', 'Роман', Decimal('480.50')),\n",
       " ('Идиот', 'Роман', Decimal('460.00'))]"
      ]
     },
     "execution_count": 13,
     "metadata": {},
     "output_type": "execute_result"
    }
   ],
   "source": [
    "%%sql\n",
    "SELECT b.title, g.name_genre, b.price\n",
    "FROM stepik.book b\n",
    "\t     INNER JOIN stepik.genre g\n",
    "\t     ON b.genre_id = g.genre_id\n",
    "WHERE b.amount > 8\n",
    "ORDER BY b.price DESC;"
   ]
  },
  {
   "cell_type": "markdown",
   "metadata": {},
   "source": [
    "### Внешнее соединение LEFT и RIGHT OUTER JOIN\n",
    "\n",
    "Можно писать вместо `LEFT OUTER JOIN` просто `LEFT JOIN`.\n",
    "\n",
    "Формирование:\n",
    "- В результат включается внутреннее соединение (`INNER JOIN`) первой и второй таблицы в соответствии с условием;\n",
    "- Затем в результат добавляются те записи первой таблицы, которые не вошли во внутреннее соединение на шаге 1, для таких записей соответствующие поля второй таблицы заполняются значениями `NULL`;\n",
    "- Соединение `RIGHT JOIN` действует аналогично, только в пункте 2 первая таблица меняется на вторую и наоборот.\n",
    "\n",
    "```mysql\n",
    "SELECT\n",
    " ...\n",
    "FROM\n",
    "    таблица_1 LEFT JOIN  таблица_2\n",
    "    ON условие\n",
    "...\n",
    "```"
   ]
  },
  {
   "cell_type": "markdown",
   "metadata": {},
   "source": [
    "#### Задача\n",
    "\n",
    "Вывести все жанры, которые не представлены в книгах на складе.\n",
    "\n",
    "```mysql\n",
    "SELECT g.name_genre\n",
    "FROM genre g\n",
    "\t     LEFT JOIN book b\n",
    "\t     ON g.genre_id = b.genre_id\n",
    "WHERE b.amount IS NULL;\n",
    "```"
   ]
  },
  {
   "cell_type": "code",
   "execution_count": 14,
   "metadata": {},
   "outputs": [
    {
     "name": "stdout",
     "output_type": "stream",
     "text": [
      " * postgresql://localhost:5432/postgres\n",
      "1 rows affected.\n"
     ]
    },
    {
     "data": {
      "text/html": [
       "<table>\n",
       "    <thead>\n",
       "        <tr>\n",
       "            <th>name_genre</th>\n",
       "        </tr>\n",
       "    </thead>\n",
       "    <tbody>\n",
       "        <tr>\n",
       "            <td>Приключения</td>\n",
       "        </tr>\n",
       "    </tbody>\n",
       "</table>"
      ],
      "text/plain": [
       "[('Приключения',)]"
      ]
     },
     "execution_count": 14,
     "metadata": {},
     "output_type": "execute_result"
    }
   ],
   "source": [
    "%%sql\n",
    "SELECT g.name_genre\n",
    "FROM stepik.genre g\n",
    "\t     LEFT JOIN stepik.book b\n",
    "\t     USING (genre_id) --ON g.genre_id = b.genre_id\n",
    "WHERE b.amount IS NULL;"
   ]
  },
  {
   "cell_type": "markdown",
   "metadata": {},
   "source": [
    "### Перекрестное соединение CROSS JOIN\n",
    "\n",
    "Формирование:\n",
    "- каждая строка одной таблицы соединяется с каждой строкой другой таблицы, формируя  в результате все возможные сочетания строк двух таблиц.\n",
    "\n",
    "```mysql\n",
    "SELECT\n",
    " ...\n",
    "FROM\n",
    "    таблица_1 CROSS JOIN  таблица_2\n",
    "...\n",
    "```\n",
    "\n",
    "или\n",
    "\n",
    "```mysql\n",
    "SELECT\n",
    " ...\n",
    "FROM\n",
    "    таблица_1, таблица_2\n",
    "....\n",
    "```"
   ]
  },
  {
   "cell_type": "markdown",
   "metadata": {},
   "source": [
    "#### Задание\n",
    "\n",
    "Есть список городов, хранящийся в таблице `city`: `city_id`, `city_name`.\n",
    "\n",
    "Необходимо в каждом городе провести выставку книг каждого автора в течение 2020 года. Дату проведения выставки выбрать случайным образом. Создать запрос, который выведет город, автора и дату проведения выставки. Последний столбец назвать `Дата`. Информацию вывести, отсортировав сначала в алфавитном порядке по названиям городов, а потом по убыванию дат проведения выставок.\n",
    "\n",
    "```mysql\n",
    "SELECT c.name_city,\n",
    "       a.name_author,\n",
    "       date_add('2020-01-01', INTERVAL floor(rand() * 365) DAY) AS \"Дата\"\n",
    "FROM city c,\n",
    "     author a\n",
    "ORDER BY c.name_city, Дата;\n",
    "```"
   ]
  },
  {
   "cell_type": "code",
   "execution_count": 15,
   "metadata": {},
   "outputs": [
    {
     "name": "stdout",
     "output_type": "stream",
     "text": [
      " * postgresql://localhost:5432/postgres\n",
      "Done.\n",
      "Done.\n",
      "3 rows affected.\n",
      "15 rows affected.\n"
     ]
    },
    {
     "data": {
      "text/html": [
       "<table>\n",
       "    <thead>\n",
       "        <tr>\n",
       "            <th>name_city</th>\n",
       "            <th>name_author</th>\n",
       "            <th>дата</th>\n",
       "        </tr>\n",
       "    </thead>\n",
       "    <tbody>\n",
       "        <tr>\n",
       "            <td>Владивосток</td>\n",
       "            <td>Лермонтов М.Ю.</td>\n",
       "            <td>2020-10-25</td>\n",
       "        </tr>\n",
       "        <tr>\n",
       "            <td>Владивосток</td>\n",
       "            <td>Булгаков М.А.</td>\n",
       "            <td>2020-10-18</td>\n",
       "        </tr>\n",
       "        <tr>\n",
       "            <td>Владивосток</td>\n",
       "            <td>Пастернак Б.Л.</td>\n",
       "            <td>2020-07-17</td>\n",
       "        </tr>\n",
       "        <tr>\n",
       "            <td>Владивосток</td>\n",
       "            <td>Достоевский Ф.М.</td>\n",
       "            <td>2020-02-13</td>\n",
       "        </tr>\n",
       "        <tr>\n",
       "            <td>Владивосток</td>\n",
       "            <td>Есенин С.А.</td>\n",
       "            <td>2020-01-04</td>\n",
       "        </tr>\n",
       "        <tr>\n",
       "            <td>Москва</td>\n",
       "            <td>Лермонтов М.Ю.</td>\n",
       "            <td>2020-06-20</td>\n",
       "        </tr>\n",
       "        <tr>\n",
       "            <td>Москва</td>\n",
       "            <td>Есенин С.А.</td>\n",
       "            <td>2020-06-16</td>\n",
       "        </tr>\n",
       "        <tr>\n",
       "            <td>Москва</td>\n",
       "            <td>Булгаков М.А.</td>\n",
       "            <td>2020-04-26</td>\n",
       "        </tr>\n",
       "        <tr>\n",
       "            <td>Москва</td>\n",
       "            <td>Пастернак Б.Л.</td>\n",
       "            <td>2020-02-21</td>\n",
       "        </tr>\n",
       "        <tr>\n",
       "            <td>Москва</td>\n",
       "            <td>Достоевский Ф.М.</td>\n",
       "            <td>2020-02-05</td>\n",
       "        </tr>\n",
       "        <tr>\n",
       "            <td>Санкт-Петербург</td>\n",
       "            <td>Лермонтов М.Ю.</td>\n",
       "            <td>2020-11-12</td>\n",
       "        </tr>\n",
       "        <tr>\n",
       "            <td>Санкт-Петербург</td>\n",
       "            <td>Булгаков М.А.</td>\n",
       "            <td>2020-07-14</td>\n",
       "        </tr>\n",
       "        <tr>\n",
       "            <td>Санкт-Петербург</td>\n",
       "            <td>Пастернак Б.Л.</td>\n",
       "            <td>2020-06-23</td>\n",
       "        </tr>\n",
       "        <tr>\n",
       "            <td>Санкт-Петербург</td>\n",
       "            <td>Есенин С.А.</td>\n",
       "            <td>2020-05-17</td>\n",
       "        </tr>\n",
       "        <tr>\n",
       "            <td>Санкт-Петербург</td>\n",
       "            <td>Достоевский Ф.М.</td>\n",
       "            <td>2020-04-02</td>\n",
       "        </tr>\n",
       "    </tbody>\n",
       "</table>"
      ],
      "text/plain": [
       "[('Владивосток', 'Лермонтов М.Ю.', datetime.date(2020, 10, 25)),\n",
       " ('Владивосток', 'Булгаков М.А.', datetime.date(2020, 10, 18)),\n",
       " ('Владивосток', 'Пастернак Б.Л.', datetime.date(2020, 7, 17)),\n",
       " ('Владивосток', 'Достоевский Ф.М.', datetime.date(2020, 2, 13)),\n",
       " ('Владивосток', 'Есенин С.А.', datetime.date(2020, 1, 4)),\n",
       " ('Москва', 'Лермонтов М.Ю.', datetime.date(2020, 6, 20)),\n",
       " ('Москва', 'Есенин С.А.', datetime.date(2020, 6, 16)),\n",
       " ('Москва', 'Булгаков М.А.', datetime.date(2020, 4, 26)),\n",
       " ('Москва', 'Пастернак Б.Л.', datetime.date(2020, 2, 21)),\n",
       " ('Москва', 'Достоевский Ф.М.', datetime.date(2020, 2, 5)),\n",
       " ('Санкт-Петербург', 'Лермонтов М.Ю.', datetime.date(2020, 11, 12)),\n",
       " ('Санкт-Петербург', 'Булгаков М.А.', datetime.date(2020, 7, 14)),\n",
       " ('Санкт-Петербург', 'Пастернак Б.Л.', datetime.date(2020, 6, 23)),\n",
       " ('Санкт-Петербург', 'Есенин С.А.', datetime.date(2020, 5, 17)),\n",
       " ('Санкт-Петербург', 'Достоевский Ф.М.', datetime.date(2020, 4, 2))]"
      ]
     },
     "execution_count": 15,
     "metadata": {},
     "output_type": "execute_result"
    }
   ],
   "source": [
    "%%sql\n",
    "DROP TABLE IF EXISTS stepik.city CASCADE;\n",
    "\n",
    "CREATE TABLE IF NOT EXISTS stepik.city\n",
    "(\n",
    "    city_id   INT primary key generated always AS identity,\n",
    "    name_city TEXT\n",
    ");\n",
    "\n",
    "INSERT INTO stepik.city(name_city)\n",
    "VALUES ('Москва'),\n",
    "       ('Санкт-Петербург'),\n",
    "       ('Владивосток');\n",
    "        \n",
    "SELECT c.name_city,\n",
    "       a.name_author,\n",
    "       ('2020-01-01'::date) + floor(random() * 364)::int AS дата\n",
    "FROM stepik.city c,\n",
    "     stepik.author a\n",
    "ORDER BY c.name_city DESC , дата DESC ;"
   ]
  },
  {
   "cell_type": "markdown",
   "metadata": {},
   "source": [
    "### Запросы на выборку из нескольких таблиц\n",
    "\n",
    "```mysql\n",
    "SELECT\n",
    " ...\n",
    "FROM\n",
    "    first INNER JOIN  second\n",
    "    ON first.first_id = second.first_id\n",
    "        INNER JOIN  third\n",
    "         ON second.second_id = third.second_id\n",
    "...\n",
    "```\n",
    "\n"
   ]
  },
  {
   "cell_type": "markdown",
   "metadata": {},
   "source": [
    "#### Задача\n",
    "\n",
    " Вывести информацию о книгах (жанр, книга, автор), относящихся к жанру, включающему слово «роман» в отсортированном по названиям книг виде.\n",
    " \n",
    " ```mysql\n",
    "SELECT g.name_genre, b.title, a.name_author\n",
    "FROM genre g\n",
    "\t     INNER JOIN book b\n",
    "\t     USING (genre_id)\n",
    "\t\t\t \t     INNER JOIN author a\n",
    "\t\t\t \t     USING (author_id)\n",
    "WHERE g.name_genre LIKE '%роман%'\n",
    "ORDER BY title;\n",
    " ```"
   ]
  },
  {
   "cell_type": "code",
   "execution_count": 16,
   "metadata": {},
   "outputs": [
    {
     "name": "stdout",
     "output_type": "stream",
     "text": [
      " * postgresql://localhost:5432/postgres\n",
      "5 rows affected.\n"
     ]
    },
    {
     "data": {
      "text/html": [
       "<table>\n",
       "    <thead>\n",
       "        <tr>\n",
       "            <th>name_genre</th>\n",
       "            <th>title</th>\n",
       "            <th>name_author</th>\n",
       "        </tr>\n",
       "    </thead>\n",
       "    <tbody>\n",
       "        <tr>\n",
       "            <td>Роман</td>\n",
       "            <td>Игрок</td>\n",
       "            <td>Достоевский Ф.М.</td>\n",
       "        </tr>\n",
       "        <tr>\n",
       "            <td>Роман</td>\n",
       "            <td>Идиот</td>\n",
       "            <td>Достоевский Ф.М.</td>\n",
       "        </tr>\n",
       "        <tr>\n",
       "            <td>Роман</td>\n",
       "            <td>Белая гвардия</td>\n",
       "            <td>Булгаков М.А.</td>\n",
       "        </tr>\n",
       "        <tr>\n",
       "            <td>Роман</td>\n",
       "            <td>Мастер и Маргарита</td>\n",
       "            <td>Булгаков М.А.</td>\n",
       "        </tr>\n",
       "        <tr>\n",
       "            <td>Роман</td>\n",
       "            <td>Братья Карамазовы</td>\n",
       "            <td>Достоевский Ф.М.</td>\n",
       "        </tr>\n",
       "    </tbody>\n",
       "</table>"
      ],
      "text/plain": [
       "[('Роман', 'Игрок', 'Достоевский Ф.М.'),\n",
       " ('Роман', 'Идиот', 'Достоевский Ф.М.'),\n",
       " ('Роман', 'Белая гвардия', 'Булгаков М.А.'),\n",
       " ('Роман', 'Мастер и Маргарита', 'Булгаков М.А.'),\n",
       " ('Роман', 'Братья Карамазовы', 'Достоевский Ф.М.')]"
      ]
     },
     "execution_count": 16,
     "metadata": {},
     "output_type": "execute_result"
    }
   ],
   "source": [
    "%%sql\n",
    "SELECT g.name_genre, b.title, a.name_author\n",
    "FROM stepik.genre g\n",
    "\t     INNER JOIN stepik.book b\n",
    "\t     USING (genre_id)\n",
    "\t     INNER JOIN stepik.author a\n",
    "\t     USING (author_id)\n",
    "WHERE lower(g.name_genre) LIKE 'роман'\n",
    "ORDER BY title;"
   ]
  },
  {
   "cell_type": "markdown",
   "metadata": {},
   "source": [
    "### Запросы для нескольких таблиц с группировкой\n",
    "\n",
    "Вывести количество различных книг каждого автора. Информацию отсортировать в алфавитном порядке по фамилиям  авторов.\n",
    "\n",
    "```mysql\n",
    "SELECT name_author, count(title) AS Количество\n",
    "FROM \n",
    "    author INNER JOIN book\n",
    "    on author.author_id = book.author_id\n",
    "GROUP BY name_author\n",
    "ORDER BY name_author;    \n",
    "```\n",
    "\n",
    "Результат:\n",
    "```\n",
    "+------------------+------------+\n",
    "| name_author      | Количество |\n",
    "+------------------+------------+\n",
    "| Булгаков М.А.    | 2          |\n",
    "| Достоевский Ф.М. | 3          |\n",
    "| Есенин С.А.      | 2          |\n",
    "| Пастернак Б.Л.   | 1          |\n",
    "+------------------+------------+\n",
    "```\n",
    "\n",
    "При использовании соединения `INNER JOIN` мы не можем узнать, что книг Лермонтова на складе нет, но предполагается, что они могут быть. Чтобы автор Лермонтов был включен в результат, нужно изменить соединение таблиц.\n",
    "\n",
    "```mysql\n",
    "SELECT name_author, count(title) AS Количество\n",
    "FROM \n",
    "    author LEFT JOIN book\n",
    "    on author.author_id = book.author_id\n",
    "GROUP BY name_author\n",
    "ORDER BY name_author; \n",
    "```\n",
    "\n",
    "Результат:\n",
    "```\n",
    "+------------------+------------+\n",
    "| name_author      | Количество |\n",
    "+------------------+------------+\n",
    "| Булгаков М.А.    | 2          |\n",
    "| Достоевский Ф.М. | 3          |\n",
    "| Есенин С.А.      | 2          |\n",
    "| Лермонтов М.Ю.   | 0          |\n",
    "| Пастернак Б.Л.   | 1          |\n",
    "+------------------+------------+\n",
    "```"
   ]
  },
  {
   "cell_type": "markdown",
   "metadata": {},
   "source": [
    "#### Задача\n",
    "\n",
    "Посчитать количество экземпляров  книг каждого автора на складе.  Вывести тех авторов,  количество книг которых меньше 10, в отсортированном по возрастанию количества виде. Последний столбец назвать Количество.\n",
    "\n",
    "```mysql\n",
    "SELECT a.name_author, sum(b.amount) AS Количество\n",
    "FROM author a\n",
    "\t     LEFT JOIN book b\n",
    "\t     USING (author_id)\n",
    "GROUP BY author_id\n",
    "HAVING ifnull(Количество, 0) < 10\n",
    "ORDER BY Количество;\n",
    "```"
   ]
  },
  {
   "cell_type": "code",
   "execution_count": 17,
   "metadata": {},
   "outputs": [
    {
     "name": "stdout",
     "output_type": "stream",
     "text": [
      " * postgresql://localhost:5432/postgres\n",
      "3 rows affected.\n"
     ]
    },
    {
     "data": {
      "text/html": [
       "<table>\n",
       "    <thead>\n",
       "        <tr>\n",
       "            <th>name_author</th>\n",
       "            <th>количество</th>\n",
       "        </tr>\n",
       "    </thead>\n",
       "    <tbody>\n",
       "        <tr>\n",
       "            <td>Пастернак Б.Л.</td>\n",
       "            <td>2</td>\n",
       "        </tr>\n",
       "        <tr>\n",
       "            <td>Булгаков М.А.</td>\n",
       "            <td>8</td>\n",
       "        </tr>\n",
       "        <tr>\n",
       "            <td>Лермонтов М.Ю.</td>\n",
       "            <td>None</td>\n",
       "        </tr>\n",
       "    </tbody>\n",
       "</table>"
      ],
      "text/plain": [
       "[('Пастернак Б.Л.', 2), ('Булгаков М.А.', 8), ('Лермонтов М.Ю.', None)]"
      ]
     },
     "execution_count": 17,
     "metadata": {},
     "output_type": "execute_result"
    }
   ],
   "source": [
    "%%sql\n",
    "SELECT a.name_author, sum(b.amount) AS количество\n",
    "FROM stepik.author a\n",
    "\t     LEFT JOIN stepik.book b\n",
    "\t     USING (author_id)\n",
    "GROUP BY author_id\n",
    "HAVING coalesce(sum(b.amount), 0) < 10\n",
    "ORDER BY количество;"
   ]
  },
  {
   "cell_type": "markdown",
   "metadata": {},
   "source": [
    "### Запросы для нескольких таблиц со вложенными запросами\n",
    "\n",
    "В запросах, построенных на нескольких таблицах, можно использовать вложенные запросы. Вложенный запрос может быть включен:  после ключевого слова `SELECT`,  после `FROM` и в условие отбора после `WHERE (HAVING)`.\n",
    "\n",
    "```mysql\n",
    "SELECT name_author, SUM(amount) as Количество\n",
    "FROM \n",
    "    author INNER JOIN book\n",
    "    on author.author_id = book.author_id\n",
    "GROUP BY name_author\n",
    "HAVING SUM(amount) = \n",
    "     (/* вычисляем максимальное из общего количества книг каждого автора */\n",
    "      SELECT MAX(sum_amount) AS max_sum_amount\n",
    "      FROM \n",
    "          (/* считаем количество книг каждого автора */\n",
    "            SELECT author_id, SUM(amount) AS sum_amount \n",
    "            FROM book GROUP BY author_id\n",
    "          ) query_in\n",
    "      );\n",
    "```"
   ]
  },
  {
   "cell_type": "markdown",
   "metadata": {},
   "source": [
    "#### Задача\n",
    "\n",
    "Вывести в алфавитном порядке всех авторов, которые пишут только в одном жанре. Поскольку у нас в таблицах так занесены данные, что у каждого автора книги только в одном жанре,  для этого запроса внесем изменения в таблицу `book`. Пусть у нас  книга Есенина «Черный человек» относится к жанру «Роман», а книга Булгакова «Белая гвардия» к «Приключениям» (эти изменения в таблицы уже внесены).\n",
    "\n",
    "```mysql\n",
    "WITH t1 AS (\n",
    "\tSELECT author_id, count(DISTINCT genre_id) unique_genre\n",
    "\tFROM book\n",
    "\tGROUP BY author_id\n",
    ")\n",
    "SELECT name_author\n",
    "FROM author\n",
    "\t     JOIN t1\n",
    "\t     USING (author_id)\n",
    "WHERE unique_genre = 1;\n",
    "```\n",
    "\n",
    "Для Postgres не будет решения, потому что требуется вносить изменения в `book`, потом возвращать. Синтаксис похожий будет, как и в решении MySQL."
   ]
  },
  {
   "cell_type": "markdown",
   "metadata": {},
   "source": [
    "### Вложенные запросы в операторах соединения\n",
    "\n",
    "Вложенные запросы могут использоваться в операторах соединения `JOIN`.\n",
    "\n",
    "```mysql\n",
    "SELECT\n",
    " ...\n",
    "FROM\n",
    "    таблица ... JOIN  \n",
    "       (\n",
    "        SELECT ...\n",
    "       ) имя_вложенного_запроса\n",
    "    ON условие\n",
    "...\n",
    "```\n",
    "\n",
    "Пример. Вывести авторов, пишущих книги в самом популярном жанре. Самым популярным считать жанр, общее количество экземпляров книг которого на складе максимально. Таких жанров может быть несколько, если они имеют одинаковое максимальное значение общего количества экземпляров. Только для этого шага изменена запись в таблице `book`.\n",
    "\n",
    "```mysql\n",
    "SELECT  name_author\n",
    "FROM author INNER JOIN book\n",
    "     on author.author_id = book.author_id\n",
    "GROUP BY name_author, genre_id\n",
    "HAVING genre_id IN \n",
    "         (/* выбираем автора, если он пишет книги в самых популярных жанрах*/\n",
    "          SELECT query_in_1.genre_id\n",
    "          FROM \n",
    "              ( /* выбираем код жанра и количество произведений, относящихся к нему */\n",
    "                SELECT genre_id, SUM(amount) AS sum_amount\n",
    "                FROM book\n",
    "                GROUP BY genre_id\n",
    "               )query_in_1\n",
    "          INNER JOIN \n",
    "              ( /* выбираем запись, в которой указан код жанр с максимальным количеством книг */\n",
    "                SELECT genre_id, SUM(amount) AS sum_amount\n",
    "                FROM book\n",
    "                GROUP BY genre_id\n",
    "                ORDER BY sum_amount DESC\n",
    "                LIMIT 1\n",
    "               ) query_in_2\n",
    "          ON query_in_1.sum_amount= query_in_2.sum_amount\n",
    "         ); \n",
    "```\n",
    "\n",
    "\n"
   ]
  },
  {
   "cell_type": "markdown",
   "metadata": {},
   "source": [
    "#### Задача\n",
    "\n",
    "Вывести информацию о книгах, написанных в самых популярных жанрах, в отсортированном в алфавитном порядке по названию книг виде.\n",
    "\n",
    "```mysql\n",
    "WITH t1 AS (\n",
    "    SELECT genre_id, SUM(amount) AS sum_amount\n",
    "    FROM book\n",
    "    GROUP BY genre_id\n",
    "), t2 AS (\n",
    "   SELECT max(sum_amount) AS max_value\n",
    "   FROM t1\n",
    ")\n",
    "SELECT b.title, a.name_author, g.name_genre, b.price, b.amount\n",
    "FROM book b\n",
    "JOIN author a\n",
    "USING (author_id)\n",
    "JOIN genre g\n",
    "USING (genre_id)\n",
    "WHERE g.genre_id IN (SELECT genre_id FROM t1 WHERE sum_amount = (SELECT max_value FROM t2))\n",
    "ORDER BY b.title;\n",
    "```\n",
    "\n",
    "Для Postgres не будет решения, потому что требуется вносить изменения в book, потом возвращать. Синтаксис похожий будет, как и в решении MySQL."
   ]
  },
  {
   "cell_type": "markdown",
   "metadata": {},
   "source": [
    "### Операция соединение, использование USING()\n",
    "\n",
    "При описании соединения таблиц с помощью `JOIN` в некоторых случаях вместо `ON` и следующего за ним условия можно использовать оператор `USING()`. (Я писал об этом ранее)\n",
    "\n",
    "`USING` позволяет указать набор столбцов, которые есть в обеих объединяемых таблицах. Если база данных хорошо спроектирована, а каждый внешний ключ имеет такое же имя, как и соответствующий первичный ключ (например, `genre.genre_id = book.genre_id`), тогда можно использовать предложение `USING` для реализации операции `JOIN`. \n",
    "\n",
    "При этом после `SELECT`, при использовании столбцов из `USING()`, необязательно указывать, из какой именно таблицы берется столбец.\n",
    "\n",
    "Вариант с `ON`:\n",
    "```mysql\n",
    "SELECT title, name_author, author.author_id /* явно указать таблицу - обязательно */\n",
    "FROM \n",
    "    author INNER JOIN book\n",
    "    ON author.author_id = book.author_id;\n",
    "```\n",
    "\n",
    "Вариант с `USING`:\n",
    "```mysql\n",
    "SELECT title, name_author, author_id /* имя таблицы, из которой берется author_id, указывать не обязательно*/\n",
    "FROM \n",
    "    author INNER JOIN book\n",
    "    USING(author_id);\n",
    "```\n",
    "\n",
    "Запись условия соединения с `ON` является более общим случаем, так как:\n",
    "- позволяет задавать соединение не только по одноименным полям;\n",
    "- позволяет использовать произвольное условие на соединение таблиц, при этом в условие может включаться произвольное выражение."
   ]
  },
  {
   "cell_type": "markdown",
   "metadata": {},
   "source": [
    "#### Задание\n",
    "\n",
    "Если в таблицах `supply`  и `book` есть одинаковые книги, которые имеют равную цену,  вывести их название и автора, а также посчитать общее количество экземпляров книг в таблицах `supply` и `book`,  столбцы назвать Название, Автор  и Количество.\n",
    "\n",
    "```mysql\n",
    "SELECT title               AS Название,\n",
    "       name_author         AS Автор,\n",
    "       b.amount + s.amount AS Количество\n",
    "FROM book b\n",
    "\t     JOIN author a\n",
    "\t     USING (author_id)\n",
    "\t     JOIN supply s\n",
    "\t     USING (title, price);\n",
    "```\n",
    "\n",
    "Для Postgres не будет решения, потому что требуется вносить изменения в book, потом возвращать. Синтаксис похожий будет, как и в решении MySQL."
   ]
  },
  {
   "cell_type": "markdown",
   "metadata": {},
   "source": [
    "## **2.3 Запросы корректировки, соединение таблиц**\n",
    "\n",
    "Синхронизируемся с курсом."
   ]
  },
  {
   "cell_type": "code",
   "execution_count": 18,
   "metadata": {},
   "outputs": [
    {
     "name": "stdout",
     "output_type": "stream",
     "text": [
      " * postgresql://localhost:5432/postgres\n",
      "Done.\n",
      "Done.\n",
      "5 rows affected.\n",
      "Done.\n",
      "Done.\n",
      "3 rows affected.\n",
      "Done.\n",
      "Done.\n",
      "8 rows affected.\n",
      "Done.\n",
      "Done.\n",
      "6 rows affected.\n"
     ]
    },
    {
     "data": {
      "text/plain": [
       "[]"
      ]
     },
     "execution_count": 18,
     "metadata": {},
     "output_type": "execute_result"
    }
   ],
   "source": [
    "%%sql\n",
    "DROP TABLE IF EXISTS stepik.author CASCADE;\n",
    "CREATE TABLE IF NOT EXISTS stepik.author\n",
    "(\n",
    "\tauthor_id   int PRIMARY KEY GENERATED ALWAYS AS IDENTITY,\n",
    "\tname_author text\n",
    ");\n",
    "\n",
    "INSERT INTO stepik.author(name_author)\n",
    "VALUES ('Булгаков М.А.'),\n",
    "       ('Достоевский Ф.М.'),\n",
    "       ('Есенин С.А.'),\n",
    "       ('Пастернак Б.Л.'),\n",
    "       ('Лермонтов М.Ю.');\n",
    "\n",
    "DROP TABLE IF EXISTS stepik.genre CASCADE;\n",
    "CREATE TABLE IF NOT EXISTS stepik.genre\n",
    "(\n",
    "\tgenre_id   INT PRIMARY KEY GENERATED ALWAYS AS IDENTITY,\n",
    "\tname_genre TEXT\n",
    ");\n",
    "\n",
    "INSERT INTO stepik.genre(name_genre)\n",
    "VALUES ('Роман'),\n",
    "       ('Поэзия'),\n",
    "       ('Приключения');\n",
    "\n",
    "DROP TABLE IF EXISTS stepik.book CASCADE;\n",
    "CREATE TABLE IF NOT EXISTS stepik.book\n",
    "(\n",
    "\tbook_id   INT PRIMARY KEY GENERATED ALWAYS AS IDENTITY,\n",
    "\ttitle     TEXT,\n",
    "\tauthor_id INT NOT NULL,\n",
    "\tgenre_id  INT,\n",
    "\tprice     DECIMAL(8, 2),\n",
    "\tamount    INT,\n",
    "\tFOREIGN KEY (author_id) REFERENCES stepik.author (author_id) ON DELETE CASCADE,\n",
    "\tFOREIGN KEY (genre_id) REFERENCES stepik.genre (genre_id) ON DELETE SET NULL\n",
    ");\n",
    "\n",
    "INSERT INTO stepik.book(title, author_id, genre_id, price, amount)\n",
    "VALUES ('Мастер и Маргарита', 1, 1, 670.99, 3),\n",
    "       ('Белая гвардия', 1, 1, 540.50, 5),\n",
    "       ('Идиот', 2, 1, 460.00, 10),\n",
    "       ('Братья Карамазовы', 2, 1, 799.01, 3),\n",
    "       ('Игрок', 2, 1, 480.50, 10),\n",
    "       ('Стихотворения и поэмы', 3, 2, 650.00, 15),\n",
    "       ('Черный человек', 3, 2, 570.20, 6),\n",
    "       ('Лирика', 4, 2, 518.99, 2);\n",
    "\n",
    "DROP TABLE IF EXISTS stepik.supply;\n",
    "CREATE TABLE IF NOT EXISTS stepik.supply\n",
    "(\n",
    "\tsupply_id INT PRIMARY KEY GENERATED ALWAYS AS IDENTITY,\n",
    "\ttitle     TEXT,\n",
    "\tauthor    TEXT,\n",
    "\tprice     DECIMAL(8, 2),\n",
    "\tamount    INT\n",
    ");\n",
    "\n",
    "INSERT INTO stepik.supply(title, author, price, amount)\n",
    "VALUES ('Доктор Живаго', 'Пастернак Б.Л.', 380.80, 4),\n",
    "       ('Черный человек', 'Есенин С.А.', 570.20, 6),\n",
    "       ('Белая гвардия', 'Булгаков М.А.', 540.50, 7),\n",
    "       ('Идиот', 'Достоевский Ф.М.', 360.80, 3),\n",
    "       ('Стихотворения и поэмы', 'Лермонтов М.Ю.', 255.90, 4),\n",
    "       ('Остров сокровищ', 'Стивенсон Р.Л.', 599.99, 5);"
   ]
  },
  {
   "cell_type": "markdown",
   "metadata": {},
   "source": [
    "### Запросы на обновление, связанные таблицы\n",
    "\n",
    "```mysql\n",
    "UPDATE таблица_1\n",
    "     ... JOIN таблица_2\n",
    "     ON выражение\n",
    "     ...\n",
    "SET ...   \n",
    "WHERE ...;\n",
    "```"
   ]
  },
  {
   "cell_type": "markdown",
   "metadata": {},
   "source": [
    "#### Задача\n",
    "\n",
    "Для книг, которые уже есть на складе (в таблице `book`), но по другой цене, чем в поставке (`supply`),  необходимо в таблице `book` увеличить количество на значение, указанное в поставке,  и пересчитать цену. А в таблице  `supply` обнулить количество этих книг. Формула для пересчета цены:\n",
    "$$price={(p_1*k_1+p_2*k_2)\\over k_1+k_2}$$ \n",
    "где  \n",
    "$p1$, $p2$ - цена книги в таблицах `book` и `supply`;\n",
    "$k1$, $k2$ - количество книг в таблицах `book` и `supply`.\n",
    "\n",
    "```mysql\n",
    "UPDATE book b\n",
    "    JOIN author a\n",
    "    ON b.author_id = a.author_id\n",
    "    JOIN supply s\n",
    "    ON b.title = s.title AND\n",
    "    a.name_author = s.author AND\n",
    "    b.price <> s.price\n",
    "SET \n",
    "    b.price = (b.price*b.amount + s.price*s.amount) / (b.amount + s.amount),\n",
    "    b.amount = b.amount + s.amount,\n",
    "    s.amount = 0;\n",
    "```\n",
    "\n",
    "**Комментарий**: сначала мы соединяем таблицы в \"[мегазорда](https://www.youtube.com/watch?v=TBHKeRWKqN8)\", а следом уже изменяем данные, которые потом по своим местам разлетятся в соответствующие таблицы.\n",
    "\n",
    "В случае с **Postgres** решение будет отличаться от решения **MySQL**. \n",
    "- Во-первых, в **Postgres** мы не можем использовать `JOIN`-ы в блоке `UPDATE`. Закон простой:один `UPDATE` обновляет только одну таблицу.\n",
    "- Во-вторых, в **Postgres** конструкция `UPDATE ... SET ... FROM` эквивалентна `JOIN`-у двух таблиц (в `UPDATE` и в `FROM`), а условие `WHERE` служит условием соединения.\n",
    "- Плюсом является то, что мы можем использовать `JOIN`-ы в секции `FROM`. Так как в этой задаче нам нужно было соединять таблицы `book` и `author` и, одновременно, обновлять таблицы `book` и `supply`, отсюда следует, что таблица `book` должна находиться в секции `UPDATE`, а не `FROM`, что в итоге не позволяет воспользоваться `JOIN`-ом `book` с `author` по причине пункта 1. Закон простой: один `FROM` может содержать множество соединенных таблиц.\n",
    "- Для использования мульти-`UPDATE` нескольких и более таблиц следует воспользоваться [предложением](https://postgrespro.ru/docs/postgresql/12/queries-with?lang=ru#QUERIES-WITH-MODIFYING) `WITH`, который сначала обрабатывает внутренние запросы, а потом переходит к главному, верхнеуровневому. Данный подход с временными таблицами называется CTE (Common Table Expressions). Плюсом CTE является, что несколько операторов `UPDATE` включаются в один план запроса, который можно проверить с помощью оператора `EXPLAIN`.\n",
    "- Другой особенностью, которую стоит отметить - это то, что после обнуления значений количества в таблице `supply` теряется смысл в передаче `RETURNING` измененных значений в запрос уровня выше. Возвращается 0.\n",
    "- В силу особенности предыдущего пунтка 5, решение **Postgres** содержит предварительно рассчитанные данные во временной таблице `supply_values`, которая в последствии и будет являться источником `FROM` в ходе изменения таблицы `book`."
   ]
  },
  {
   "cell_type": "code",
   "execution_count": 19,
   "metadata": {},
   "outputs": [
    {
     "name": "stdout",
     "output_type": "stream",
     "text": [
      " * postgresql://localhost:5432/postgres\n",
      "1 rows affected.\n"
     ]
    },
    {
     "data": {
      "text/html": [
       "<table>\n",
       "    <thead>\n",
       "        <tr>\n",
       "            <th>book_id</th>\n",
       "            <th>title</th>\n",
       "            <th>author_id</th>\n",
       "            <th>genre_id</th>\n",
       "            <th>price</th>\n",
       "            <th>amount</th>\n",
       "            <th>author_id_1</th>\n",
       "            <th>author</th>\n",
       "            <th>title_1</th>\n",
       "            <th>amount_1</th>\n",
       "            <th>price_1</th>\n",
       "        </tr>\n",
       "    </thead>\n",
       "    <tbody>\n",
       "        <tr>\n",
       "            <td>3</td>\n",
       "            <td>Идиот</td>\n",
       "            <td>2</td>\n",
       "            <td>1</td>\n",
       "            <td>437.11</td>\n",
       "            <td>13</td>\n",
       "            <td>2</td>\n",
       "            <td>Достоевский Ф.М.</td>\n",
       "            <td>Идиот</td>\n",
       "            <td>3</td>\n",
       "            <td>360.80</td>\n",
       "        </tr>\n",
       "    </tbody>\n",
       "</table>"
      ],
      "text/plain": [
       "[(3, 'Идиот', 2, 1, Decimal('437.11'), 13, 2, 'Достоевский Ф.М.', 'Идиот', 3, Decimal('360.80'))]"
      ]
     },
     "execution_count": 19,
     "metadata": {},
     "output_type": "execute_result"
    }
   ],
   "source": [
    "%%sql\n",
    "WITH supply_values AS (\n",
    "  /*Получаем количество и цену книг из supply до обнуления*/\n",
    "  SELECT\n",
    "    author.author_id,\n",
    "    supply.author,\n",
    "    supply.title,\n",
    "    supply.amount,\n",
    "    supply.price\n",
    "  FROM\n",
    "    stepik.book\n",
    "    JOIN stepik.author USING (author_id)\n",
    "    JOIN stepik.supply ON book.title = supply.title\n",
    "      AND name_author = supply.author\n",
    "      AND book.price <> supply.price\n",
    "),\n",
    "cte AS (\n",
    "  /*Обнуляем значение amount в supply из рассчитанной таблицы supply_values*/\n",
    "  UPDATE\n",
    "    stepik.supply\n",
    "  SET\n",
    "    amount = 0\n",
    "  FROM\n",
    "    supply_values sv\n",
    "  WHERE\n",
    "    supply.author = sv.author\n",
    "    AND supply.title = sv.title)\n",
    "UPDATE\n",
    "  stepik.book\n",
    "SET\n",
    "  price = (book.price * book.amount + sv.price * sv.amount) / (book.amount + sv.amount),\n",
    "  amount = book.amount + sv.amount\n",
    "FROM\n",
    "  supply_values sv\n",
    "WHERE\n",
    "  book.title = sv.title AND\n",
    "  book.author_id = sv.author_id\n",
    "RETURNING\n",
    "  *;"
   ]
  },
  {
   "cell_type": "code",
   "execution_count": null,
   "metadata": {},
   "outputs": [],
   "source": []
  }
 ],
 "metadata": {
  "hide_input": false,
  "kernelspec": {
   "display_name": "Python 3",
   "language": "python",
   "name": "python3"
  },
  "language_info": {
   "codemirror_mode": {
    "name": "ipython",
    "version": 3
   },
   "file_extension": ".py",
   "mimetype": "text/x-python",
   "name": "python",
   "nbconvert_exporter": "python",
   "pygments_lexer": "ipython3",
   "version": "3.8.5"
  },
  "toc": {
   "base_numbering": 1,
   "nav_menu": {},
   "number_sections": false,
   "sideBar": true,
   "skip_h1_title": false,
   "title_cell": "Table of Contents",
   "title_sidebar": "Contents",
   "toc_cell": true,
   "toc_position": {
    "height": "calc(100% - 180px)",
    "left": "10px",
    "top": "150px",
    "width": "227px"
   },
   "toc_section_display": true,
   "toc_window_display": true
  },
  "varInspector": {
   "cols": {
    "lenName": 16,
    "lenType": 16,
    "lenVar": 40
   },
   "kernels_config": {
    "python": {
     "delete_cmd_postfix": "",
     "delete_cmd_prefix": "del ",
     "library": "var_list.py",
     "varRefreshCmd": "print(var_dic_list())"
    },
    "r": {
     "delete_cmd_postfix": ") ",
     "delete_cmd_prefix": "rm(",
     "library": "var_list.r",
     "varRefreshCmd": "cat(var_dic_list()) "
    }
   },
   "types_to_exclude": [
    "module",
    "function",
    "builtin_function_or_method",
    "instance",
    "_Feature"
   ],
   "window_display": false
  }
 },
 "nbformat": 4,
 "nbformat_minor": 4
}

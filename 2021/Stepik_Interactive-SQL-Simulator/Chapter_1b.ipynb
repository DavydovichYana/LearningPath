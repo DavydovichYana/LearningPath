{
 "cells": [
  {
   "cell_type": "markdown",
   "metadata": {},
   "source": [
    "**ИНТЕРАКТИВНЫЙ ТРЕНАЖЕР ПО SQL. ОСНОВЫ РЕЛЯЦИОННОЙ МОДЕЛИ И SQL.**\n",
    "\n",
    "[Курс](https://stepik.org/course/63054/syllabus) на Stepik.\n",
    "\n",
    "Автор: **Озерова Галина Павловна**  \n",
    "<img src=\"imgs/ozerova.jpg\" title=\"Озерова Галина Павловна\" width=\"200\" height=\"200\"/>\n",
    "\n",
    "Конспектировал: **Илья Филимонов** (GiHub: [@IsFilimonov](https://github.com/IsFilimonov))  \n",
    "\n",
    "<img src=\"imgs/IsFilimonov.png\" title=\"Илья Филимонов\" width=\"200\" height=\"200\"/>\n",
    "\n",
    "---"
   ]
  },
  {
   "cell_type": "markdown",
   "metadata": {
    "toc": true
   },
   "source": [
    "<h1>Table of Contents<span class=\"tocSkip\"></span></h1>\n",
    "<div class=\"toc\"><ul class=\"toc-item\"><li><span><a href=\"#Введение\" data-toc-modified-id=\"Введение-1\"><strong>Введение</strong></a></span><ul class=\"toc-item\"><li><span><a href=\"#От-конспектирующего\" data-toc-modified-id=\"От-конспектирующего-1.1\">От конспектирующего</a></span></li><li><span><a href=\"#Памятка-о-типичных-ошибках-и-способах-их-исправления\" data-toc-modified-id=\"Памятка-о-типичных-ошибках-и-способах-их-исправления-1.2\">Памятка о типичных ошибках и способах их исправления</a></span></li></ul></li><li><span><a href=\"#Основные-понятия-реляционных-баз-данных\" data-toc-modified-id=\"Основные-понятия-реляционных-баз-данных-2\"><strong>Основные понятия реляционных баз данных</strong></a></span><ul class=\"toc-item\"><li><span><a href=\"#1.6-Таблица-&quot;Командировки&quot;,-запросы-на-выборку\" data-toc-modified-id=\"1.6-Таблица-&quot;Командировки&quot;,-запросы-на-выборку-2.1\"><strong>1.6 Таблица \"Командировки\", запросы на выборку</strong></a></span><ul class=\"toc-item\"><li><span><a href=\"#Структура-и-наполнение-таблицы\" data-toc-modified-id=\"Структура-и-наполнение-таблицы-2.1.1\">Структура и наполнение таблицы</a></span></li></ul></li></ul></li></ul></div>"
   ]
  },
  {
   "cell_type": "markdown",
   "metadata": {},
   "source": [
    "# **Введение**"
   ]
  },
  {
   "cell_type": "markdown",
   "metadata": {},
   "source": [
    "## От конспектирующего\n",
    "(Не реклама): сам курс использует диалект MySQL, но мне комфортнее использовать PostgreSQL 12.6 ([download](https://www.postgresql.org/download/)).  \n",
    "[Рекомендации](https://wiki.postgresql.org/wiki/Don%27t_Do_This) того, чего не нужно делать в Postgres.\n",
    "\n",
    "Для работы с базой лично я использую IDE [DataGrip](https://www.jetbrains.com/ru-ru/datagrip/) (платная) или [Dbeaver](https://dbeaver.io/) (бесплатная) - под MacOS. \n",
    "\n",
    "Это всё сторонние решения, но можно воспользоваться более [простым способом](https://towardsdatascience.com/heres-how-to-run-sql-in-jupyter-notebooks-f26eb90f3259) - использовать Jupyter Notebook в роли SQL IDE. Для этого нам потребуется установить несколько библиотек. Для работы с Jupyter Notebook я использую платформу [Anaconda](https://www.anaconda.com/), поэтому все нужные библиотеки для работы я буду устанавливать именно в эту среду. Я не буду останавливаться на деталях в вопросе \"как?\", чтобы в деталях не закопаться. В интернете полно подсказок. Главное, должны быть установлены:\n",
    "- `ipython-sql` - [пакет](https://anaconda.org/conda-forge/ipython-sql) для работы с SQL запросами;\n",
    "- `psycopg2` или `psycopg2-binary` - драйвер базы данных Postgres. Там есть нюансы с установкой;\n",
    "- `sqlalchemy` - ORM для работы с SQL БД.\n",
    "\n",
    "\n",
    "Более подробно читайте [статью](https://towardsdatascience.com/heres-how-to-run-sql-in-jupyter-notebooks-f26eb90f3259), которая была выше."
   ]
  },
  {
   "cell_type": "markdown",
   "metadata": {},
   "source": [
    "Для установки соединения с БД мы единожды используем SQL Alchemy."
   ]
  },
  {
   "cell_type": "code",
   "execution_count": 1,
   "metadata": {},
   "outputs": [],
   "source": [
    "import sqlalchemy"
   ]
  },
  {
   "cell_type": "markdown",
   "metadata": {},
   "source": [
    "Далее создаем соединение."
   ]
  },
  {
   "cell_type": "code",
   "execution_count": 2,
   "metadata": {},
   "outputs": [
    {
     "data": {
      "text/plain": [
       "Engine(postgresql://localhost:5432/postgres)"
      ]
     },
     "execution_count": 2,
     "metadata": {},
     "output_type": "execute_result"
    }
   ],
   "source": [
    "sqlalchemy.create_engine(\"postgresql://localhost:5432/postgres\")"
   ]
  },
  {
   "cell_type": "markdown",
   "metadata": {},
   "source": [
    "Загружаем extension."
   ]
  },
  {
   "cell_type": "code",
   "execution_count": 3,
   "metadata": {},
   "outputs": [],
   "source": [
    "%load_ext sql"
   ]
  },
  {
   "cell_type": "markdown",
   "metadata": {},
   "source": [
    "Проверяем соединение."
   ]
  },
  {
   "cell_type": "code",
   "execution_count": 4,
   "metadata": {},
   "outputs": [
    {
     "data": {
      "text/plain": [
       "'Connected: @postgres'"
      ]
     },
     "execution_count": 4,
     "metadata": {},
     "output_type": "execute_result"
    }
   ],
   "source": [
    "%sql postgresql://localhost:5432/postgres"
   ]
  },
  {
   "cell_type": "markdown",
   "metadata": {},
   "source": [
    "Чтобы узнать какая версия установлена у вас, введите в консоле запроса БД (не в командной строке, а в ячейке):"
   ]
  },
  {
   "cell_type": "code",
   "execution_count": 5,
   "metadata": {
    "scrolled": false
   },
   "outputs": [
    {
     "name": "stdout",
     "output_type": "stream",
     "text": [
      " * postgresql://localhost:5432/postgres\n",
      "1 rows affected.\n"
     ]
    },
    {
     "data": {
      "text/html": [
       "<table>\n",
       "    <thead>\n",
       "        <tr>\n",
       "            <th>version</th>\n",
       "        </tr>\n",
       "    </thead>\n",
       "    <tbody>\n",
       "        <tr>\n",
       "            <td>PostgreSQL 12.6 on x86_64-apple-darwin16.7.0, compiled by Apple LLVM version 8.1.0 (clang-802.0.42), 64-bit</td>\n",
       "        </tr>\n",
       "    </tbody>\n",
       "</table>"
      ],
      "text/plain": [
       "[('PostgreSQL 12.6 on x86_64-apple-darwin16.7.0, compiled by Apple LLVM version 8.1.0 (clang-802.0.42), 64-bit',)]"
      ]
     },
     "execution_count": 5,
     "metadata": {},
     "output_type": "execute_result"
    }
   ],
   "source": [
    "%%sql\n",
    "\n",
    "SELECT version();"
   ]
  },
  {
   "cell_type": "markdown",
   "metadata": {},
   "source": [
    "Вероятнее всего у вас уже создана БД `postgres`. Будем работать с ней. В БД нам нужно создать схему `stepik`, так сказать группировку (семантическую) для нужных нам таблиц. \n",
    "\n",
    "`DROP SCHEMA ... CASCADE` удаляет схему со всеми данными внутри.  \n",
    "`IF NOT EXISTS` означает не делать ничего (только выдать замечание), если схема с таким именем уже существует."
   ]
  },
  {
   "cell_type": "code",
   "execution_count": 6,
   "metadata": {},
   "outputs": [
    {
     "name": "stdout",
     "output_type": "stream",
     "text": [
      " * postgresql://localhost:5432/postgres\n",
      "Done.\n",
      "Done.\n"
     ]
    },
    {
     "data": {
      "text/plain": [
       "[]"
      ]
     },
     "execution_count": 6,
     "metadata": {},
     "output_type": "execute_result"
    }
   ],
   "source": [
    "%%sql\n",
    "DROP SCHEMA IF EXISTS stepik CASCADE;\n",
    "\n",
    "CREATE SCHEMA IF NOT EXISTS stepik;"
   ]
  },
  {
   "cell_type": "markdown",
   "metadata": {},
   "source": [
    "## Памятка о типичных ошибках и способах их исправления\n",
    "\n",
    "1. Приведите синтаксис запроса к общепринятому:\n",
    "    - если у вас есть время, стоит изучить [руководство по стилю SQL](https://www.sqlstyle.guide/ru/);\n",
    "    - можете отформатировать ваш запрос с помощью сторонних [сервисов](https://codebeautify.org/sqlformatter).\n",
    "2. Проверьте, что **ключевые слова**, **названия столбцов** и **значения в ячейках**, которые необходимо найти, написаны правильно. Особенно обратите внимание, чтобы в русских названиях столбцов не было английских букв.\n",
    "3. Проверьте, что:\n",
    "    - количество открывающихся скобок равно количеству закрывающихся;\n",
    "    - запятые разделяют перечисление столбцов, но не ключевые слова;\n",
    "    - запросы разделяются точкой с запятой.\n",
    "4. Последовательность написания команд SQL:\n",
    "```SQL\n",
    "SELECT 'столбцы или * для выбора всех столбцов; обязательно'\n",
    "FROM 'таблица; обязательно'\n",
    "WHERE 'условие/фильтрация, например, city = 'Moscow'; необязательно'\n",
    "GROUP BY 'столбец, по которому хотим сгруппировать данные; необязательно'\n",
    "HAVING 'условие/фильтрация на уровне сгруппированных данных; необязательно'\n",
    "ORDER BY 'столбец, по которому хотим отсортировать вывод; необязательно'\n",
    "```\n",
    "5. Если запрос включает подзапросы, выполните сначала подзапросы и удостоверьтесь, что получаете ожидаемый результат.\n",
    "6. **Важно!** На платформе Stepik используется MySQL, версия 8.0.21.\n",
    "7. Последовательность выполнения команд SQL:\n",
    "<center><img src=\"imgs/sql-order.jpeg\" title=\"SQL order\" width=\"30%\" height=\"30%\"/></center>\n",
    "8. Или другой вариант от [@Ken Flerlage](https://www.flerlagetwins.com/) со сравнением ([источник](https://www.flerlagetwins.com/2018/10/sql-part4.html)):\n",
    "<center><img src=\"imgs/sql-order-operations.png\" title=\"SQL order operations\" width=\"50%\" height=\"50%\"/></center>\n",
    "9. Специфические отличия MySQL от PostgreSQL:\n",
    "\n",
    "[MySQL](https://www.mysqltutorial.org/mysql-having.aspx/): `FROM` => `WHERE` = `SELECT` = `GROUP BY` = `HAVING` = `ORDER BY` = `LIMIT`.   \n",
    "\n",
    "[PostgreSQL](https://www.postgresqltutorial.com/postgresql-having/): `FROM` => `WHERE` = `GROUP BY` = `HAVING` = `SELECT` = `DISTINCT` = `ORDER BY` = `LIMIT`. "
   ]
  },
  {
   "cell_type": "markdown",
   "metadata": {},
   "source": [
    "# **Основные понятия реляционных баз данных**"
   ]
  },
  {
   "cell_type": "markdown",
   "metadata": {},
   "source": [
    "## **1.6 Таблица \"Командировки\", запросы на выборку**"
   ]
  },
  {
   "cell_type": "markdown",
   "metadata": {},
   "source": [
    "### Структура и наполнение таблицы\n",
    "\n",
    "Таблица `trip`, в которой представлена информация о командировках сотрудников некоторой организации (фамилия сотрудника, город, куда он ездил, размер суточных, даты первого и последнего дня командировки):\n",
    "\n"
   ]
  },
  {
   "cell_type": "code",
   "execution_count": null,
   "metadata": {},
   "outputs": [],
   "source": []
  }
 ],
 "metadata": {
  "hide_input": false,
  "kernelspec": {
   "display_name": "Python 3",
   "language": "python",
   "name": "python3"
  },
  "language_info": {
   "codemirror_mode": {
    "name": "ipython",
    "version": 3
   },
   "file_extension": ".py",
   "mimetype": "text/x-python",
   "name": "python",
   "nbconvert_exporter": "python",
   "pygments_lexer": "ipython3",
   "version": "3.8.5"
  },
  "toc": {
   "base_numbering": 1,
   "nav_menu": {},
   "number_sections": false,
   "sideBar": true,
   "skip_h1_title": false,
   "title_cell": "Table of Contents",
   "title_sidebar": "Contents",
   "toc_cell": true,
   "toc_position": {
    "height": "calc(100% - 180px)",
    "left": "10px",
    "top": "150px",
    "width": "219px"
   },
   "toc_section_display": true,
   "toc_window_display": true
  },
  "varInspector": {
   "cols": {
    "lenName": 16,
    "lenType": 16,
    "lenVar": 40
   },
   "kernels_config": {
    "python": {
     "delete_cmd_postfix": "",
     "delete_cmd_prefix": "del ",
     "library": "var_list.py",
     "varRefreshCmd": "print(var_dic_list())"
    },
    "r": {
     "delete_cmd_postfix": ") ",
     "delete_cmd_prefix": "rm(",
     "library": "var_list.r",
     "varRefreshCmd": "cat(var_dic_list()) "
    }
   },
   "types_to_exclude": [
    "module",
    "function",
    "builtin_function_or_method",
    "instance",
    "_Feature"
   ],
   "window_display": false
  }
 },
 "nbformat": 4,
 "nbformat_minor": 4
}

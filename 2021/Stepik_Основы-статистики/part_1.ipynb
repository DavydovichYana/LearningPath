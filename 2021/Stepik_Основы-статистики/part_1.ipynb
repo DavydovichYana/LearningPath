{
 "metadata": {
  "language_info": {
   "codemirror_mode": {
    "name": "ipython",
    "version": 3
   },
   "file_extension": ".py",
   "mimetype": "text/x-python",
   "name": "python",
   "nbconvert_exporter": "python",
   "pygments_lexer": "ipython3",
   "version": "3.9.0-final"
  },
  "orig_nbformat": 2,
  "kernelspec": {
   "name": "python3",
   "display_name": "Python 3",
   "language": "python"
  }
 },
 "nbformat": 4,
 "nbformat_minor": 2,
 "cells": [
  {
   "source": [
    "# Основы статистики\n",
    "\n",
    "Stepik [лекция](https://stepik.org/course/76/syllabus).\n",
    "\n",
    "## Конспект лекций\n",
    "\n",
    "Автор лекций: **Анатолий Карпов**\n",
    "<img src=\"img/Saint_Karpov.png\" title=\"Анатлолий Карпов\">\n",
    "\n",
    "Конспектировал: **Илья Филимонов**\n",
    "  - GitHub: [@IsFilimonov](https://github.com/IsFilimonov\n",
    "\n"
   ],
   "cell_type": "markdown",
   "metadata": {
    "pycharm": {
     "name": "#%% md\n"
    }
   }
  }
 ]
}
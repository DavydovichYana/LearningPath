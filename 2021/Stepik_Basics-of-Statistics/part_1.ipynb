{
 "metadata": {
  "language_info": {
   "codemirror_mode": {
    "name": "ipython",
    "version": 3
   },
   "file_extension": ".py",
   "mimetype": "text/x-python",
   "name": "python",
   "nbconvert_exporter": "python",
   "pygments_lexer": "ipython3",
   "version": "3.9.0-final"
  },
  "orig_nbformat": 2,
  "kernelspec": {
   "name": "python3",
   "display_name": "Python 3",
   "language": "python"
  }
 },
 "nbformat": 4,
 "nbformat_minor": 2,
 "cells": [
  {
   "source": [
    "# Основы статистики\n",
    "\n",
    "Stepik [source](https://stepik.org/course/76/syllabus).\n",
    "\n",
    "## Конспект лекций\n",
    "\n",
    "Author: **Анатолий Карпов**\n",
    "<img src=\"img/karpov_0.jpg\" title=\"Анатлолий Карпов\">\n",
    "\n",
    "Synopsis by: **Илья Филимонов**\n",
    "  - GitHub: [@IsFilimonov](https://github.com/IsFilimonov)"
   ],
   "cell_type": "markdown",
   "metadata": {
    "pycharm": {
     "name": "#%% md\n"
    }
   }
  },
  {
   "cell_type": "markdown",
   "source": [
    "# Content\n",
    "- [Рекомендации от автора](#Recomendations)\n",
    "## Part 1\n",
    "### Week 1\n",
    "- 1"
   ],
   "metadata": {
    "collapsed": false
   }
  },
  {
   "cell_type": "markdown",
   "source": [
    "# Recomendations\n",
    "1. С. Гланц. Медико-биологическая статистика. ([pdf source](http://medstatistic.ru/articles/glantz.pdf)).\n",
    "Хороший учебник по введению в статистику на русском языке со множеством примеров из биологии и медицины.\n",
    "2. Jerrold H. Zar.  Biostatistical Analysis.\n",
    "Более подробный учебник, в котором очень тщательно разбирается большинство статистических методов для анализа биологических данных.\n",
    "3. OpenIntro Statistics ([source](https://www.openintro.org/stat/textbook.php))\n",
    "Замечательный учебник с массой примеров из различных областей, а также видео лекции.\n",
    "4. [Статистика и котики](https://www.litres.ru/vladimir-savelev-10569666/statistika-i-kotiki/): отличный учебник для первых шагов в области анализа данных. Несмотря на несерьезное название в учебнике очень понятно и доступно объясняются основные темы, необходимые для уверенного использования статистики."
   ],
   "metadata": {
    "collapsed": false
   }
  },
  {
   "cell_type": "markdown",
   "source": [
    "# Terminology\n",
    "Сокращение    | Термин\n",
    "------------- | ------------------------\n",
    "ГС            | Генеральная совокупность\n",
    "РВ            | Репрезентативная выборка\n",
    "\n"
   ],
   "metadata": {
    "collapsed": false
   }
  },
  {
   "cell_type": "markdown",
   "source": [
    "# Генеральная совокупность и выборка\n",
    "**Генеральная совокупность** (от лат. *generis* — общий, родовой) — совокупность всех объектов, относительно которых предполагается делать выводы при изучении конкретной задачи (далее **ГС**).\n",
    "\n",
    "**Репрезентативная выборка** – это точная модель **генеральной совокупности** (**ГС**), но в уменьшенном размере.\n",
    "**Пример**: если в **генеральной совокупности** (**ГС**) 30% курильщики, а 25% посещают фитнес-клубы, то в составе **репрезентативной выборки** должны соблюдаться эти пропорции. (далее **РВ**).\n",
    "\n",
    "\n",
    "\n",
    "\n",
    "\n",
    "\n",
    "\n",
    "\n",
    "\n",
    "\n",
    "\n",
    "\n",
    "\n",
    "\n",
    "\n",
    "\n",
    "\n",
    "\n",
    "\n",
    "\n",
    "\n",
    "\n",
    "\n",
    "\n",
    "\n",
    "\n",
    "\n"
   ],
   "metadata": {
    "collapsed": false
   }
  }
 ]
}